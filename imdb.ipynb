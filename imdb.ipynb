{
 "cells": [
  {
   "cell_type": "code",
   "execution_count": 33,
   "id": "bc0c56ca",
   "metadata": {},
   "outputs": [],
   "source": [
    "import pandas as pd\n",
    "import numpy as np\n",
    "import seaborn as sns\n",
    "from sklearn.metrics import confusion_matrix,accuracy_score,recall_score,f1_score,precision_score\n",
    "from tensorflow.keras.layers import Dense\n",
    "from tensorflow.keras.models import Sequential\n",
    "from tensorflow.keras.optimizers import Adam\n",
    "from tensorflow.keras.datasets import imdb\n",
    "import matplotlib.pyplot as plt"
   ]
  },
  {
   "cell_type": "code",
   "execution_count": 28,
   "id": "7b843edf",
   "metadata": {},
   "outputs": [],
   "source": [
    "#loading and preprocessing data\n",
    "(train_data,train_labels),(test_data,test_labels)=imdb.load_data(num_words=1000)\n",
    "x_train=np.zeros((len(train_data),1000))\n",
    "for i,seq in enumerate(train_data):\n",
    "    x_train[i,seq]=1\n",
    "y_train=np.asarray(train_labels).astype('float32')\n",
    "\n",
    "x_test=np.zeros((len(test_data),1000))\n",
    "for i,seq in enumerate(test_data):\n",
    "    x_test[i,seq]=1\n",
    "y_test=np.asarray(test_labels).astype('float32')\n"
   ]
  },
  {
   "cell_type": "code",
   "execution_count": 29,
   "id": "466c9a25",
   "metadata": {},
   "outputs": [
    {
     "name": "stdout",
     "output_type": "stream",
     "text": [
      "Epoch 1/30\n",
      "70/70 [==============================] - 3s 17ms/step - loss: 0.5202 - accuracy: 0.7481 - val_loss: 0.3759 - val_accuracy: 0.8407\n",
      "Epoch 2/30\n",
      "70/70 [==============================] - 1s 9ms/step - loss: 0.3444 - accuracy: 0.8546 - val_loss: 0.3382 - val_accuracy: 0.8573\n",
      "Epoch 3/30\n",
      "70/70 [==============================] - 1s 9ms/step - loss: 0.3134 - accuracy: 0.8696 - val_loss: 0.3349 - val_accuracy: 0.8597\n",
      "Epoch 4/30\n",
      "70/70 [==============================] - 1s 10ms/step - loss: 0.3020 - accuracy: 0.8747 - val_loss: 0.3337 - val_accuracy: 0.8612\n",
      "Epoch 5/30\n",
      "70/70 [==============================] - 1s 10ms/step - loss: 0.2940 - accuracy: 0.8787 - val_loss: 0.3387 - val_accuracy: 0.8596\n",
      "Epoch 6/30\n",
      "70/70 [==============================] - 1s 11ms/step - loss: 0.2888 - accuracy: 0.8812 - val_loss: 0.3376 - val_accuracy: 0.8593\n",
      "Epoch 7/30\n",
      "70/70 [==============================] - 1s 8ms/step - loss: 0.2795 - accuracy: 0.8855 - val_loss: 0.3380 - val_accuracy: 0.8615\n",
      "Epoch 8/30\n",
      "70/70 [==============================] - 1s 8ms/step - loss: 0.2724 - accuracy: 0.8872 - val_loss: 0.3416 - val_accuracy: 0.8579\n",
      "Epoch 9/30\n",
      "70/70 [==============================] - 1s 10ms/step - loss: 0.2602 - accuracy: 0.8926 - val_loss: 0.3429 - val_accuracy: 0.8572\n",
      "Epoch 10/30\n",
      "70/70 [==============================] - 1s 8ms/step - loss: 0.2529 - accuracy: 0.8970 - val_loss: 0.3539 - val_accuracy: 0.8557\n",
      "Epoch 11/30\n",
      "70/70 [==============================] - 1s 8ms/step - loss: 0.2442 - accuracy: 0.8999 - val_loss: 0.3539 - val_accuracy: 0.8548\n",
      "Epoch 12/30\n",
      "70/70 [==============================] - 1s 8ms/step - loss: 0.2348 - accuracy: 0.9050 - val_loss: 0.3636 - val_accuracy: 0.8536\n",
      "Epoch 13/30\n",
      "70/70 [==============================] - 1s 8ms/step - loss: 0.2268 - accuracy: 0.9099 - val_loss: 0.3637 - val_accuracy: 0.8517\n",
      "Epoch 14/30\n",
      "70/70 [==============================] - 1s 8ms/step - loss: 0.2158 - accuracy: 0.9145 - val_loss: 0.3725 - val_accuracy: 0.8525\n",
      "Epoch 15/30\n",
      "70/70 [==============================] - 1s 8ms/step - loss: 0.2079 - accuracy: 0.9186 - val_loss: 0.3821 - val_accuracy: 0.8492\n",
      "Epoch 16/30\n",
      "70/70 [==============================] - 1s 8ms/step - loss: 0.2007 - accuracy: 0.9217 - val_loss: 0.3888 - val_accuracy: 0.8499\n",
      "Epoch 17/30\n",
      "70/70 [==============================] - 1s 8ms/step - loss: 0.1931 - accuracy: 0.9243 - val_loss: 0.3939 - val_accuracy: 0.8479\n",
      "Epoch 18/30\n",
      "70/70 [==============================] - 1s 8ms/step - loss: 0.1856 - accuracy: 0.9275 - val_loss: 0.4120 - val_accuracy: 0.8441\n",
      "Epoch 19/30\n",
      "70/70 [==============================] - 1s 8ms/step - loss: 0.1769 - accuracy: 0.9319 - val_loss: 0.4144 - val_accuracy: 0.8427\n",
      "Epoch 20/30\n",
      "70/70 [==============================] - 1s 8ms/step - loss: 0.1672 - accuracy: 0.9388 - val_loss: 0.4288 - val_accuracy: 0.8432\n",
      "Epoch 21/30\n",
      "70/70 [==============================] - 1s 8ms/step - loss: 0.1594 - accuracy: 0.9409 - val_loss: 0.4419 - val_accuracy: 0.8425\n",
      "Epoch 22/30\n",
      "70/70 [==============================] - 1s 8ms/step - loss: 0.1532 - accuracy: 0.9444 - val_loss: 0.4638 - val_accuracy: 0.8320\n",
      "Epoch 23/30\n",
      "70/70 [==============================] - 1s 8ms/step - loss: 0.1443 - accuracy: 0.9478 - val_loss: 0.4716 - val_accuracy: 0.8388\n",
      "Epoch 24/30\n",
      "70/70 [==============================] - 1s 8ms/step - loss: 0.1355 - accuracy: 0.9543 - val_loss: 0.4841 - val_accuracy: 0.8379\n",
      "Epoch 25/30\n",
      "70/70 [==============================] - 1s 8ms/step - loss: 0.1288 - accuracy: 0.9564 - val_loss: 0.4964 - val_accuracy: 0.8352\n",
      "Epoch 26/30\n",
      "70/70 [==============================] - 1s 8ms/step - loss: 0.1194 - accuracy: 0.9606 - val_loss: 0.5053 - val_accuracy: 0.8351\n",
      "Epoch 27/30\n",
      "70/70 [==============================] - 1s 8ms/step - loss: 0.1096 - accuracy: 0.9656 - val_loss: 0.5336 - val_accuracy: 0.8315\n",
      "Epoch 28/30\n",
      "70/70 [==============================] - 1s 8ms/step - loss: 0.1051 - accuracy: 0.9661 - val_loss: 0.5497 - val_accuracy: 0.8321\n",
      "Epoch 29/30\n",
      "70/70 [==============================] - 1s 8ms/step - loss: 0.0950 - accuracy: 0.9703 - val_loss: 0.5633 - val_accuracy: 0.8289\n",
      "Epoch 30/30\n",
      "70/70 [==============================] - 1s 8ms/step - loss: 0.0886 - accuracy: 0.9752 - val_loss: 0.6117 - val_accuracy: 0.8283\n"
     ]
    },
    {
     "data": {
      "text/plain": [
       "<keras.src.callbacks.History at 0x2b0fe077ad0>"
      ]
     },
     "execution_count": 29,
     "metadata": {},
     "output_type": "execute_result"
    }
   ],
   "source": [
    "#model building and fitting\n",
    "model=Sequential()\n",
    "model.add(Dense(units=16,activation='relu',input_shape=(1000,)))\n",
    "model.add(Dense(units=16,activation='relu'))\n",
    "model.add(Dense(units=1,activation='sigmoid'))\n",
    "model.compile(optimizer='adam',loss='binary_crossentropy',metrics=['accuracy'])\n",
    "model.fit(x_train,y_train,verbose=1,batch_size=250,epochs=30,validation_split=0.3)"
   ]
  },
  {
   "cell_type": "code",
   "execution_count": 30,
   "id": "b7ea3e2c",
   "metadata": {},
   "outputs": [
    {
     "name": "stdout",
     "output_type": "stream",
     "text": [
      "Enter the index of review: 69\n",
      "The decoded review of index  69  is\n",
      "? if you're a fan of film ? and think they don't make ? like they used to here is your ? they just don't make ? in hollywood ? we must turn to the french to remember how ? ? and ? a well made film from that genre can be read my ? is a ? ? little ? to the ? from director ? ? ? ? ? and fine performances from ? ? and ? ? br br the ? plot could have been written in the ? dumb but ? ? ? and a ? but ? ? ? who turns out to be ? ? ? each other while living lives of ? ? and ? ? each other to meet their own ends ? ? love hate relationship ? up ? ? ? ? ? ? close ? and lots of money all action takes place in ? ? and or poorly ? ? br br ? has ? some modern ? of course the ? ? is an ? ? ? who happens to be nearly ? and ? her ? reading ? to take ? on those who ? her and where you might expect ? love scenes you ? that both characters are ? ? and ? add in a bit of modern ? and music and it seems like a ? film but make no ? this is old school film ? it's as good as any film from the genre and easily one of the best films i've seen all year\n",
      "Label:  1\n",
      "Positive\n"
     ]
    }
   ],
   "source": [
    "\n",
    "review_index=int(input(\"Enter the index of review: \"))\n",
    "\n",
    "#word decoding\n",
    "word_index=imdb.get_word_index()\n",
    "reverse_word_index={value:key for key, value in word_index.items()}\n",
    "decoded_review=' '.join([reverse_word_index.get(i-3,'?') for i in train_data[review_index]])\n",
    "\n",
    "print(\"The decoded review of index \",format(review_index),\" is\")\n",
    "print(decoded_review)\n",
    "print(\"Label: \",train_labels[review_index])\n",
    "if(train_labels[review_index]==1):\n",
    "    print(\"Positive\")\n",
    "elif(train_labels[review_index]==0):\n",
    "    print(\"Negative\")\n",
    "else:\n",
    "    print(\"unable to answer\")"
   ]
  },
  {
   "cell_type": "code",
   "execution_count": 31,
   "id": "1286db49",
   "metadata": {},
   "outputs": [
    {
     "name": "stdout",
     "output_type": "stream",
     "text": [
      "782/782 [==============================] - 3s 3ms/step\n",
      "Accuracy Score:  0.824\n",
      "Precision Score:  0.8016535081185759\n",
      "Recall Score:  0.86104\n",
      "F1 Score:  0.830286199182288\n",
      "Confusion Matrix: \n",
      "[[ 9837  2663]\n",
      " [ 1737 10763]]\n"
     ]
    }
   ],
   "source": [
    "#performance metrix\n",
    "predictions=model.predict(x_test)\n",
    "predictions=(predictions>0.5).astype(int)\n",
    "\n",
    "\n",
    "accuracy=accuracy_score(y_test,predictions)\n",
    "precision=precision_score(y_test,predictions)\n",
    "recall=recall_score(y_test,predictions)\n",
    "f1=f1_score(y_test,predictions)\n",
    "confusion=confusion_matrix(y_test,predictions)\n",
    "\n",
    "\n",
    "print(\"Accuracy Score: \",accuracy)\n",
    "print(\"Precision Score: \",precision)\n",
    "print(\"Recall Score: \", recall)\n",
    "print(\"F1 Score: \", f1)\n",
    "print(\"Confusion Matrix: \")\n",
    "print(confusion)"
   ]
  },
  {
   "cell_type": "code",
   "execution_count": 34,
   "id": "5c614930",
   "metadata": {},
   "outputs": [
    {
     "data": {
      "image/png": "[encoded data removed]",
      "text/plain": [
       "<Figure size 640x480 with 2 Axes>"
      ]
     },
     "metadata": {},
     "output_type": "display_data"
    }
   ],
   "source": [
    "sns.heatmap(confusion)\n",
    "plt.xlabel('Predicted')\n",
    "plt.ylabel('Actual')\n",
    "plt.title('Confusion Matrix')\n",
    "plt.show()"
   ]
  },
  {
   "cell_type": "code",
   "execution_count": null,
   "id": "3b328b27",
   "metadata": {},
   "outputs": [],
   "source": []
  }
 ],
 "metadata": {
  "kernelspec": {
   "display_name": "Python 3 (ipykernel)",
   "language": "python",
   "name": "python3"
  },
  "language_info": {
   "codemirror_mode": {
    "name": "ipython",
    "version": 3
   },
   "file_extension": ".py",
   "mimetype": "text/x-python",
   "name": "python",
   "nbconvert_exporter": "python",
   "pygments_lexer": "ipython3",
   "version": "3.11.5"
  }
 },
 "nbformat": 4,
 "nbformat_minor": 5
}
