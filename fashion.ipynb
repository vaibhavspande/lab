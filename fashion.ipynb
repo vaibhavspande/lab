{
 "cells": [
  {
   "cell_type": "code",
   "execution_count": 32,
   "id": "9ff2f775",
   "metadata": {},
   "outputs": [],
   "source": [
    "#import libraries\n",
    "import pandas as pd\n",
    "import numpy as np\n",
    "import seaborn as sns\n",
    "from sklearn.metrics import confusion_matrix,accuracy_score,recall_score,f1_score,precision_score\n",
    "from tensorflow.keras.layers import Dense,Conv2D,MaxPooling2D,Flatten\n",
    "from tensorflow.keras.models import Sequential\n",
    "from tensorflow.keras.optimizers import Adam\n",
    "from tensorflow.keras.datasets import fashion_mnist\n",
    "\n",
    "\n"
   ]
  },
  {
   "cell_type": "code",
   "execution_count": 31,
   "id": "f125153b",
   "metadata": {},
   "outputs": [
    {
     "name": "stdout",
     "output_type": "stream",
     "text": [
      "Epoch 1/5\n",
      "1875/1875 [==============================] - 78s 41ms/step - loss: 1.1574 - accuracy: 0.8460\n",
      "Epoch 2/5\n",
      "1875/1875 [==============================] - 78s 42ms/step - loss: 0.2903 - accuracy: 0.8969\n",
      "Epoch 3/5\n",
      "1875/1875 [==============================] - 76s 40ms/step - loss: 0.2557 - accuracy: 0.9075\n",
      "Epoch 4/5\n",
      "1875/1875 [==============================] - 78s 42ms/step - loss: 0.2296 - accuracy: 0.9161\n",
      "Epoch 5/5\n",
      "1875/1875 [==============================] - 78s 42ms/step - loss: 0.2142 - accuracy: 0.9216\n"
     ]
    },
    {
     "data": {
      "text/plain": [
       "<keras.src.callbacks.History at 0x1b88f4be550>"
      ]
     },
     "execution_count": 31,
     "metadata": {},
     "output_type": "execute_result"
    }
   ],
   "source": [
    "#preprocessing and loading the data\n",
    "(x_train,y_train),(x_test,y_test)=fashion_mnist.load_data()\n",
    "\n",
    "#reshaping the data\n",
    "x_train=x_train.reshape(-1,28,28,1)\n",
    "x_test=x_test.reshape(-1,28,28,1)\n",
    "\n",
    "#model building\n",
    "model=Sequential()\n",
    "model.add(Conv2D(filters=64,kernel_size=(3,3),activation='relu',input_shape=(28,28,1)))\n",
    "model.add(MaxPooling2D())\n",
    "model.add(Flatten())\n",
    "model.add(Dense(128,activation='relu'))\n",
    "model.add(Dense(10,activation='softmax'))\n",
    "model.compile(optimizer='adam',loss='sparse_categorical_crossentropy',metrics=['accuracy'])\n",
    "model.fit(x_train,y_train,epochs=5)"
   ]
  },
  {
   "cell_type": "code",
   "execution_count": null,
   "id": "eabc1990",
   "metadata": {},
   "outputs": [],
   "source": []
  },
  {
   "cell_type": "code",
   "execution_count": 52,
   "id": "9cd47aac",
   "metadata": {},
   "outputs": [
    {
     "name": "stdout",
     "output_type": "stream",
     "text": [
      "313/313 [==============================] - 4s 12ms/step - loss: 0.3724 - accuracy: 0.8876\n",
      "313/313 [==============================] - 4s 12ms/step\n",
      "              precision    recall  f1-score   support\n",
      "\n",
      "           0       0.88      0.76      0.82      1000\n",
      "           1       0.98      0.98      0.98      1000\n",
      "           2       0.86      0.77      0.81      1000\n",
      "           3       0.91      0.88      0.89      1000\n",
      "           4       0.83      0.82      0.82      1000\n",
      "           5       0.98      0.98      0.98      1000\n",
      "           6       0.63      0.80      0.71      1000\n",
      "           7       0.95      0.95      0.95      1000\n",
      "           8       0.97      0.98      0.97      1000\n",
      "           9       0.96      0.96      0.96      1000\n",
      "\n",
      "    accuracy                           0.89     10000\n",
      "   macro avg       0.89      0.89      0.89     10000\n",
      "weighted avg       0.89      0.89      0.89     10000\n",
      "\n"
     ]
    },
    {
     "data": {
      "image/png": "[encoded data removed]",
      "text/plain": [
       "<Figure size 640x480 with 2 Axes>"
      ]
     },
     "metadata": {},
     "output_type": "display_data"
    }
   ],
   "source": [
    "loss=model.evaluate(x_test,y_test)\n",
    "y_pred=model.predict(x_test)\n",
    "y_pred_labels=np.argmax(y_pred,axis=1)\n",
    "\n",
    "\n",
    "report=classification_report(y_test,y_pred_labels)\n",
    "print(report)\n",
    "\n",
    "confusion=confusion_matrix(y_test,y_pred_labels)\n",
    "# Visualize confusion matrix\n",
    "\n",
    "sns.heatmap(confusion)\n",
    "plt.xlabel('predicted')\n",
    "plt.ylabel('actual')\n",
    "plt.title('confusion matrix')\n",
    "plt.show()\n",
    "\n"
   ]
  }
 ],
 "metadata": {
  "kernelspec": {
   "display_name": "Python 3 (ipykernel)",
   "language": "python",
   "name": "python3"
  },
  "language_info": {
   "codemirror_mode": {
    "name": "ipython",
    "version": 3
   },
   "file_extension": ".py",
   "mimetype": "text/x-python",
   "name": "python",
   "nbconvert_exporter": "python",
   "pygments_lexer": "ipython3",
   "version": "3.11.5"
  }
 },
 "nbformat": 4,
 "nbformat_minor": 5
}
